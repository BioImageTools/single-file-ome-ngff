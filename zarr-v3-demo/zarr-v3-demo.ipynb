{
 "cells": [
  {
   "cell_type": "code",
   "execution_count": 1,
   "id": "8f24fb9f-986f-4fe1-bf2f-4f978fa59b00",
   "metadata": {},
   "outputs": [],
   "source": [
    "import requests\n",
    "import zipfile\n",
    "from io import BytesIO"
   ]
  },
  {
   "cell_type": "markdown",
   "id": "48837581-bbee-4e64-8f67-8556a6d5f30f",
   "metadata": {},
   "source": [
    "## Data download"
   ]
  },
  {
   "cell_type": "code",
   "execution_count": 2,
   "id": "ff8c131e-df16-426c-8e7d-d8c5adc5f030",
   "metadata": {},
   "outputs": [],
   "source": [
    "zipped_zarr_url = \"https://zenodo.org/records/13305156/files/20200812-CardiomyocyteDifferentiation14-Cycle1.zarr.zip\""
   ]
  },
  {
   "cell_type": "code",
   "execution_count": 3,
   "id": "a454e299-f84c-426b-bded-a6bc4fdfd61c",
   "metadata": {},
   "outputs": [],
   "source": [
    "r = requests.get(zipped_zarr_url)\n",
    "r.raise_for_status()\n",
    "buf = BytesIO(r.content)\n",
    "with zipfile.ZipFile(buf) as z:\n",
    "    z.extractall(\"../data\")"
   ]
  }
 ],
 "metadata": {
  "kernelspec": {
   "display_name": "Python 3 (ipykernel)",
   "language": "python",
   "name": "python3"
  },
  "language_info": {
   "codemirror_mode": {
    "name": "ipython",
    "version": 3
   },
   "file_extension": ".py",
   "mimetype": "text/x-python",
   "name": "python",
   "nbconvert_exporter": "python",
   "pygments_lexer": "ipython3",
   "version": "3.12.7"
  }
 },
 "nbformat": 4,
 "nbformat_minor": 5
}
