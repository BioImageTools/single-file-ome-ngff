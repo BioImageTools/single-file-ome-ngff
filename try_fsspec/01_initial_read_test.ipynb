{
 "cells": [
  {
   "cell_type": "code",
   "execution_count": 42,
   "metadata": {},
   "outputs": [],
   "source": [
    "import json\n",
    "import fsspec"
   ]
  },
  {
   "cell_type": "code",
   "execution_count": 10,
   "metadata": {},
   "outputs": [],
   "source": [
    "url = \"local:///Users/leo/code/single-file-ome-ngff/data/20200812-CardiomyocyteDifferentiation14-Cycle1.zarr.zip\"\n",
    "handle = fsspec.open_files(url)"
   ]
  },
  {
   "cell_type": "code",
   "execution_count": 34,
   "metadata": {},
   "outputs": [],
   "source": [
    "fs = fsspec.filesystem('zip', fo=url)\n",
    "files = fs.glob(\"/*.zarr/*.zgroup\")\n",
    "zgroup_path = files[0]"
   ]
  },
  {
   "cell_type": "code",
   "execution_count": 44,
   "metadata": {},
   "outputs": [
    {
     "data": {
      "text/plain": [
       "{'zarr_format': 2}"
      ]
     },
     "execution_count": 44,
     "metadata": {},
     "output_type": "execute_result"
    }
   ],
   "source": [
    "json.loads(fs.open(zgroup_path).read().decode())"
   ]
  },
  {
   "cell_type": "code",
   "execution_count": 65,
   "metadata": {},
   "outputs": [
    {
     "data": {
      "text/plain": [
       "<OpenFile '20200812-CardiomyocyteDifferentiation14-Cycle1.zarr/.zgroup'>"
      ]
     },
     "execution_count": 65,
     "metadata": {},
     "output_type": "execute_result"
    }
   ],
   "source": [
    "url_zip = \"zip:///*.zarr/.zgroup::local:///Users/leo/code/single-file-ome-ngff/data/20200812-CardiomyocyteDifferentiation14-Cycle1.zarr.zip\"\n",
    "files = fsspec.open_files(url_zip)\n",
    "files[0]"
   ]
  },
  {
   "cell_type": "code",
   "execution_count": 64,
   "metadata": {},
   "outputs": [
    {
     "data": {
      "text/plain": [
       "{'zarr_format': 2}"
      ]
     },
     "execution_count": 64,
     "metadata": {},
     "output_type": "execute_result"
    }
   ],
   "source": [
    "url_zip = \"zip://**/.zgroup::local:///Users/leo/code/single-file-ome-ngff/data/20200812-CardiomyocyteDifferentiation14-Cycle1.zarr.zip\"\n",
    "files = fsspec.open_files(url_zip)\n",
    "json.load(files[0].open())"
   ]
  },
  {
   "cell_type": "code",
   "execution_count": 70,
   "metadata": {},
   "outputs": [
    {
     "data": {
      "text/plain": [
       "{'zarr_format': 2}"
      ]
     },
     "execution_count": 70,
     "metadata": {},
     "output_type": "execute_result"
    }
   ],
   "source": [
    "url_zip = \"zip://**/.zgroup::https://zenodo.org/records/13305156/files/20200812-CardiomyocyteDifferentiation14-Cycle1.zarr.zip?download=1\"\n",
    "files = fsspec.open_files(url_zip)\n",
    "json.load(files[0].open())"
   ]
  },
  {
   "cell_type": "code",
   "execution_count": 108,
   "metadata": {},
   "outputs": [],
   "source": [
    "import zarr\n",
    "import numpy as np"
   ]
  },
  {
   "cell_type": "code",
   "execution_count": 91,
   "metadata": {},
   "outputs": [],
   "source": [
    "url_zip = \"simplecache::zip:///20200812-CardiomyocyteDifferentiation14-Cycle1.zarr::https://zenodo.org/records/13305156/files/20200812-CardiomyocyteDifferentiation14-Cycle1.zarr.zip?download=1\"\n",
    "a1 = zarr.open_group(url_zip, mode=\"r\")"
   ]
  },
  {
   "cell_type": "code",
   "execution_count": 110,
   "metadata": {},
   "outputs": [
    {
     "data": {
      "text/plain": [
       "array(['03'], dtype='<U2')"
      ]
     },
     "execution_count": 110,
     "metadata": {},
     "output_type": "execute_result"
    }
   ],
   "source": [
    "np.asarray(a1[\"B\"])"
   ]
  },
  {
   "cell_type": "code",
   "execution_count": null,
   "metadata": {},
   "outputs": [],
   "source": []
  }
 ],
 "metadata": {
  "kernelspec": {
   "display_name": ".venv",
   "language": "python",
   "name": "python3"
  },
  "language_info": {
   "codemirror_mode": {
    "name": "ipython",
    "version": 3
   },
   "file_extension": ".py",
   "mimetype": "text/x-python",
   "name": "python",
   "nbconvert_exporter": "python",
   "pygments_lexer": "ipython3",
   "version": "3.13.0"
  }
 },
 "nbformat": 4,
 "nbformat_minor": 2
}
