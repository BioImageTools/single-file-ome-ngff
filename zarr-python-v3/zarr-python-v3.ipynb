{
 "cells": [
  {
   "cell_type": "code",
   "execution_count": null,
   "id": "8f24fb9f-986f-4fe1-bf2f-4f978fa59b00",
   "metadata": {},
   "outputs": [],
   "source": [
    "import requests\n",
    "import zipfile\n",
    "from zarr.storage import LocalStore, ZipStore\n",
    "\n",
    "from io import BytesIO"
   ]
  },
  {
   "cell_type": "markdown",
   "id": "48837581-bbee-4e64-8f67-8556a6d5f30f",
   "metadata": {},
   "source": [
    "## Data download & extraction"
   ]
  },
  {
   "cell_type": "code",
   "execution_count": 2,
   "id": "ff8c131e-df16-426c-8e7d-d8c5adc5f030",
   "metadata": {},
   "outputs": [],
   "source": [
    "zipped_zarr_url = \"https://zenodo.org/records/13305156/files/20200812-CardiomyocyteDifferentiation14-Cycle1.zarr.zip\""
   ]
  },
  {
   "cell_type": "code",
   "execution_count": null,
   "id": "a454e299-f84c-426b-bded-a6bc4fdfd61c",
   "metadata": {},
   "outputs": [],
   "source": [
    "r = requests.get(zipped_zarr_url)\n",
    "r.raise_for_status()\n",
    "buf = BytesIO(r.content)\n",
    "with zipfile.ZipFile(buf) as z:\n",
    "    z.extractall(\"../data\")"
   ]
  },
  {
   "cell_type": "markdown",
   "id": "17936ec7-e33a-4c1f-b6f9-4b5d804ed5e4",
   "metadata": {},
   "source": [
    "## DirectoryStore -> ZipStore conversion"
   ]
  },
  {
   "cell_type": "code",
   "execution_count": null,
   "id": "f8260f7f-4b71-416b-897c-d5ab8f7a7a0f",
   "metadata": {},
   "outputs": [],
   "source": [
    "source_zarr_file = \"../data/20200812-CardiomyocyteDifferentiation14-Cycle1.zarr\"\n",
    "dest_zarr_file = \"../data/20200812-CardiomyocyteDifferentiation14-Cycle1.zarr.zip\""
   ]
  },
  {
   "cell_type": "code",
   "execution_count": null,
   "id": "3f5e4e33-145f-4977-a095-0a3f43db8d05",
   "metadata": {},
   "outputs": [],
   "source": [
    "local_store = LocalStore(source_zarr_file, read_only=True)"
   ]
  },
  {
   "cell_type": "code",
   "execution_count": null,
   "id": "0056e136-c257-4808-a0b3-273db3ecf605",
   "metadata": {},
   "outputs": [],
   "source": [
    "# # Doesn't work: need to use ZipStore.open instead\n",
    "# # AttributeError: 'ZipStore' object has no attribute '_lock'\n",
    "# with ZipStore(dest_zarr_file, mode=\"w\", compression=zipfile.ZIP_STORED) as zip_store:  \n",
    "#     pass"
   ]
  },
  {
   "cell_type": "code",
   "execution_count": null,
   "id": "4cc995c0-813b-49b8-b764-75e85554de0b",
   "metadata": {},
   "outputs": [],
   "source": [
    "# # Doesn't work: no context manager support for ZipStore?\n",
    "# # TypeError: 'coroutine' object does not support the context manager protocol\n",
    "# with ZipStore.open(dest_zarr_file, mode=\"w\", compression=zipfile.ZIP_STORED) as zip_store:\n",
    "#     pass"
   ]
  },
  {
   "cell_type": "code",
   "execution_count": null,
   "id": "f08ae06f-fa95-4923-9f6d-ed1eb52729a2",
   "metadata": {},
   "outputs": [],
   "source": [
    "zip_store = ZipStore(dest_zarr_file, mode=\"w\", compression=zipfile.ZIP_STORED)\n",
    "zip_store.open() # don't forget to close!"
   ]
  },
  {
   "cell_type": "code",
   "execution_count": null,
   "id": "41c612e5-cc06-47a6-87c0-34291c1b7ae9",
   "metadata": {},
   "outputs": [],
   "source": [
    "# # Doesn't work: convenience \"copy routines\" are not implemented\n",
    "# # NotImplementedError\n",
    "# zarr.copy_store(local_store, zip_store)"
   ]
  },
  {
   "cell_type": "code",
   "execution_count": null,
   "id": "16ffd283-8eaf-41e8-9939-f9aa6c78f334",
   "metadata": {},
   "outputs": [],
   "source": [
    "async def copy_keys(source_store, dest_store):\n",
    "    async for key in source_store.list():\n",
    "        value = await source_store.get(key)\n",
    "        await dest_store.set(key, value)\n",
    "\n",
    "await copy_keys(local_store, zip_store)"
   ]
  },
  {
   "cell_type": "code",
   "execution_count": null,
   "id": "1d52b232-027a-4743-b940-57dd8d49ba00",
   "metadata": {},
   "outputs": [],
   "source": [
    "zip_store.close()"
   ]
  }
 ],
 "metadata": {
  "kernelspec": {
   "display_name": "Python 3 (ipykernel)",
   "language": "python",
   "name": "python3"
  },
  "language_info": {
   "codemirror_mode": {
    "name": "ipython",
    "version": 3
   },
   "file_extension": ".py",
   "mimetype": "text/x-python",
   "name": "python",
   "nbconvert_exporter": "python",
   "pygments_lexer": "ipython3",
   "version": "3.12.7"
  }
 },
 "nbformat": 4,
 "nbformat_minor": 5
}
